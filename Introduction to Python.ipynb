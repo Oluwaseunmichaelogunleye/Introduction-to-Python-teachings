{
 "cells": [
  {
   "cell_type": "markdown",
   "metadata": {},
   "source": [
    "# Introduction to Python programming\n",
    "\n",
    "\n",
    "\n",
    "\n",
    "### Introduction to Python"
   ]
  },
  {
   "cell_type": "code",
   "execution_count": 2,
   "metadata": {},
   "outputs": [
    {
     "name": "stdout",
     "output_type": "stream",
     "text": [
      "Hello world, i am learning to code in Python\n"
     ]
    }
   ],
   "source": [
    "print('Hello world, i am learning to code in Python')"
   ]
  },
  {
   "cell_type": "markdown",
   "metadata": {},
   "source": [
    "# Variable and identifier in python\n",
    "variable is any object that occupies space on computer memory \n",
    "while identifier is used to identify variable stored computer memory"
   ]
  },
  {
   "cell_type": "code",
   "execution_count": 3,
   "metadata": {},
   "outputs": [],
   "source": [
    "name = \"Oluwaseun\""
   ]
  },
  {
   "cell_type": "code",
   "execution_count": 4,
   "metadata": {},
   "outputs": [
    {
     "name": "stdout",
     "output_type": "stream",
     "text": [
      "Oluwaseun\n"
     ]
    }
   ],
   "source": [
    "print(name)"
   ]
  },
  {
   "cell_type": "markdown",
   "metadata": {},
   "source": [
    "# RULES FOR NAMING IDENTIFIER/variable\n",
    "1. vvariable name cannot start with a number thou number can be found in ay other place\n",
    "2. Any special character cannot be used in variable name except underscore\n",
    "3. white space cannot be used to join variable name, use underscare instead\n",
    "4. variable name needs to be descriptive\n",
    "5. the python keywords cannot be used as variable name e.g def, class"
   ]
  },
  {
   "cell_type": "code",
   "execution_count": 7,
   "metadata": {},
   "outputs": [
    {
     "name": "stdout",
     "output_type": "stream",
     "text": [
      "My name is Oluwaseun Michael and i am  15 years old from Ekiti\n"
     ]
    }
   ],
   "source": [
    "first_name = \"Oluwaseun\"\n",
    "last_name = \"Michael\"\n",
    "age = 15\n",
    "state = \"Ekiti\"\n",
    "\n",
    "print(\"My name is\", first_name, last_name, \"and i am \", age, \"years old\", \"from\", state)"
   ]
  },
  {
   "cell_type": "code",
   "execution_count": 8,
   "metadata": {},
   "outputs": [
    {
     "name": "stdout",
     "output_type": "stream",
     "text": [
      "Please enter your first nameOluwaseun\n",
      "Please enter your last nameMichael\n",
      "Oga, wetin be your age?100\n",
      "What state are you from?Zion\n",
      "My name is Oluwaseun Michael and i am  100 years old from Zion\n"
     ]
    }
   ],
   "source": [
    "first_name = input(\"Please enter your first name\")\n",
    "last_name = input(\"Please enter your last name\")\n",
    "age = input(\"Oga, wetin be your age?\")\n",
    "state = input(\"What state are you from?\")\n",
    "\n",
    "print(\"My name is\", first_name, last_name, \"and i am \", age, \"years old\", \"from\", state)"
   ]
  },
  {
   "cell_type": "code",
   "execution_count": 13,
   "metadata": {},
   "outputs": [
    {
     "name": "stdout",
     "output_type": "stream",
     "text": [
      "Please enter your first nameSeun\n",
      "Please enter your last nameMike\n",
      "What state are you from?Zion\n",
      "Hello, Seun Mike from  Zion . You are welcome to Python class!\n"
     ]
    }
   ],
   "source": [
    "first_name = input(\"Please enter your first name\")\n",
    "last_name = input(\"Please enter your last name\")\n",
    "state = input(\"What state are you from?\")\n",
    "\n",
    "print(\"Hello,\", first_name, last_name, \"from \", state,\".\", \"You are welcome to Python class!\")"
   ]
  },
  {
   "cell_type": "code",
   "execution_count": 15,
   "metadata": {},
   "outputs": [
    {
     "name": "stdout",
     "output_type": "stream",
     "text": [
      "Please enter your first number3\n",
      "Please enter your second number7\n",
      "The sum of the numbers entered is  10\n"
     ]
    }
   ],
   "source": [
    "num1 = int(input(\"Please enter your first number\"))\n",
    "num2 = int(input(\"Please enter your second number\"))\n",
    "total = num1 + num2\n",
    "\n",
    "print(\"The sum of the numbers entered is \", total)"
   ]
  },
  {
   "cell_type": "code",
   "execution_count": null,
   "metadata": {},
   "outputs": [],
   "source": []
  }
 ],
 "metadata": {
  "kernelspec": {
   "display_name": "Python 3",
   "language": "python",
   "name": "python3"
  },
  "language_info": {
   "codemirror_mode": {
    "name": "ipython",
    "version": 3
   },
   "file_extension": ".py",
   "mimetype": "text/x-python",
   "name": "python",
   "nbconvert_exporter": "python",
   "pygments_lexer": "ipython3",
   "version": "3.7.6"
  }
 },
 "nbformat": 4,
 "nbformat_minor": 4
}
