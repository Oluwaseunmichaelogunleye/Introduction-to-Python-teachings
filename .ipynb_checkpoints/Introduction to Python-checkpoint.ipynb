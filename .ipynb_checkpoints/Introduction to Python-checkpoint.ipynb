{
 "cells": [
  {
   "cell_type": "markdown",
   "metadata": {},
   "source": [
    "# Introduction to Python programming\n",
    "\n",
    "\n",
    "\n",
    "\n",
    "### Introduction to Python"
   ]
  },
  {
   "cell_type": "code",
   "execution_count": 2,
   "metadata": {},
   "outputs": [
    {
     "name": "stdout",
     "output_type": "stream",
     "text": [
      "Hello world, i am learning to code in Python\n"
     ]
    }
   ],
   "source": [
    "print('Hello world, i am learning to code in Python')"
   ]
  },
  {
   "cell_type": "markdown",
   "metadata": {},
   "source": [
    "# Variable and identifier in python\n",
    "variable is any object that occupies space on computer memory \n",
    "while identifier is used to identify variable stored computer memory"
   ]
  },
  {
   "cell_type": "code",
   "execution_count": 3,
   "metadata": {},
   "outputs": [],
   "source": [
    "name = \"Oluwaseun\""
   ]
  },
  {
   "cell_type": "code",
   "execution_count": 4,
   "metadata": {},
   "outputs": [
    {
     "name": "stdout",
     "output_type": "stream",
     "text": [
      "Oluwaseun\n"
     ]
    }
   ],
   "source": [
    "print(name)"
   ]
  },
  {
   "cell_type": "markdown",
   "metadata": {},
   "source": [
    "# RULES FOR NAMING IDENTIFIER/variable\n",
    "1. variable name cannot start with a number thou number can be found in ay other place\n",
    "2. Any special character cannot be used in variable name except underscore\n",
    "3. white space cannot be used to join variable name, use underscare instead\n",
    "4. variable name needs to be descriptive\n",
    "5. the python keywords cannot be used as variable name e.g def, class"
   ]
  },
  {
   "cell_type": "code",
   "execution_count": 7,
   "metadata": {},
   "outputs": [
    {
     "name": "stdout",
     "output_type": "stream",
     "text": [
      "My name is Oluwaseun Michael and i am  15 years old from Ekiti\n"
     ]
    }
   ],
   "source": [
    "first_name = \"Oluwaseun\"\n",
    "last_name = \"Michael\"\n",
    "age = 15\n",
    "state = \"Ekiti\"\n",
    "\n",
    "print(\"My name is\", first_name, last_name, \"and i am \", age, \"years old\", \"from\", state)"
   ]
  },
  {
   "cell_type": "code",
   "execution_count": 8,
   "metadata": {},
   "outputs": [
    {
     "name": "stdout",
     "output_type": "stream",
     "text": [
      "Please enter your first nameOluwaseun\n",
      "Please enter your last nameMichael\n",
      "Oga, wetin be your age?100\n",
      "What state are you from?Zion\n",
      "My name is Oluwaseun Michael and i am  100 years old from Zion\n"
     ]
    }
   ],
   "source": [
    "first_name = input(\"Please enter your first name\")\n",
    "last_name = input(\"Please enter your last name\")\n",
    "age = input(\"Oga, wetin be your age?\")\n",
    "state = input(\"What state are you from?\")\n",
    "\n",
    "print(\"My name is\", first_name, last_name, \"and i am \", age, \"years old\", \"from\", state)"
   ]
  },
  {
   "cell_type": "code",
   "execution_count": 13,
   "metadata": {},
   "outputs": [
    {
     "name": "stdout",
     "output_type": "stream",
     "text": [
      "Please enter your first nameSeun\n",
      "Please enter your last nameMike\n",
      "What state are you from?Zion\n",
      "Hello, Seun Mike from  Zion . You are welcome to Python class!\n"
     ]
    }
   ],
   "source": [
    "first_name = input(\"Please enter your first name\")\n",
    "last_name = input(\"Please enter your last name\")\n",
    "state = input(\"What state are you from?\")\n",
    "\n",
    "print(\"Hello,\", first_name, last_name, \"from \", state,\".\", \"You are welcome to Python class!\")"
   ]
  },
  {
   "cell_type": "code",
   "execution_count": 15,
   "metadata": {},
   "outputs": [
    {
     "name": "stdout",
     "output_type": "stream",
     "text": [
      "Please enter your first number3\n",
      "Please enter your second number7\n",
      "The sum of the numbers entered is  10\n"
     ]
    }
   ],
   "source": [
    "num1 = int(input(\"Please enter your first number\"))\n",
    "num2 = int(input(\"Please enter your second number\"))\n",
    "total = num1 + num2\n",
    "\n",
    "print(\"The sum of the numbers entered is \", total)"
   ]
  },
  {
   "cell_type": "markdown",
   "metadata": {},
   "source": [
    "# OPERATOR IN PYTHON   |  29-04-2024\n",
    "\n",
    " -Arithmetic operator\n",
    "-Assignment\n",
    "-comparison\n",
    "-membership\n",
    "-identity\n",
    "-logocal \n",
    "-bitwise"
   ]
  },
  {
   "cell_type": "markdown",
   "metadata": {},
   "source": [
    "# Arithmetic"
   ]
  },
  {
   "cell_type": "code",
   "execution_count": 3,
   "metadata": {},
   "outputs": [
    {
     "name": "stdout",
     "output_type": "stream",
     "text": [
      "5\n"
     ]
    }
   ],
   "source": [
    "# Addition(+)\n",
    "\n",
    "a = 2\n",
    "b = 3\n",
    "c = a+b\n",
    "print(c)"
   ]
  },
  {
   "cell_type": "code",
   "execution_count": 4,
   "metadata": {},
   "outputs": [
    {
     "name": "stdout",
     "output_type": "stream",
     "text": [
      "4\n"
     ]
    }
   ],
   "source": [
    "# Subtraction(-)\n",
    "\n",
    "a = 7\n",
    "b = 3\n",
    "c = a-b\n",
    "print(c)"
   ]
  },
  {
   "cell_type": "code",
   "execution_count": 5,
   "metadata": {},
   "outputs": [
    {
     "name": "stdout",
     "output_type": "stream",
     "text": [
      "0.6666666666666666\n"
     ]
    }
   ],
   "source": [
    "# divition(/)\n",
    "\n",
    "a = 2\n",
    "b = 3\n",
    "c = a/b\n",
    "print(c)"
   ]
  },
  {
   "cell_type": "code",
   "execution_count": 7,
   "metadata": {},
   "outputs": [
    {
     "name": "stdout",
     "output_type": "stream",
     "text": [
      "1\n"
     ]
    }
   ],
   "source": [
    "# modulus(%): it returns the reminder of the division\n",
    "\n",
    "a = 10\n",
    "b = 3\n",
    "c = a%b\n",
    "print(c)"
   ]
  },
  {
   "cell_type": "markdown",
   "metadata": {},
   "source": [
    "# Assignment"
   ]
  },
  {
   "cell_type": "code",
   "execution_count": 8,
   "metadata": {},
   "outputs": [],
   "source": [
    "# Equal sign (=)\n",
    "a = 4 # assgning 4 to a"
   ]
  },
  {
   "cell_type": "code",
   "execution_count": 10,
   "metadata": {},
   "outputs": [
    {
     "name": "stdout",
     "output_type": "stream",
     "text": [
      "6\n"
     ]
    }
   ],
   "source": [
    "# increment operator\n",
    "a = 5\n",
    "a+=1 # increase the value of a by 1\n",
    "print(a)"
   ]
  },
  {
   "cell_type": "code",
   "execution_count": 11,
   "metadata": {},
   "outputs": [
    {
     "name": "stdout",
     "output_type": "stream",
     "text": [
      "2\n"
     ]
    }
   ],
   "source": [
    "# decrement operator\n",
    "a = 5\n",
    "a-=3 # decrease the value of a by 3\n",
    "print(a)"
   ]
  },
  {
   "cell_type": "markdown",
   "metadata": {},
   "source": [
    "# comparion operator\n",
    "It returns a boolean value i.e true or false"
   ]
  },
  {
   "cell_type": "code",
   "execution_count": 12,
   "metadata": {},
   "outputs": [
    {
     "data": {
      "text/plain": [
       "False"
      ]
     },
     "execution_count": 12,
     "metadata": {},
     "output_type": "execute_result"
    }
   ],
   "source": [
    "# greater than(>)\n",
    "a = 5\n",
    "b = 7\n",
    "a>b"
   ]
  },
  {
   "cell_type": "code",
   "execution_count": 13,
   "metadata": {},
   "outputs": [
    {
     "data": {
      "text/plain": [
       "False"
      ]
     },
     "execution_count": 13,
     "metadata": {},
     "output_type": "execute_result"
    }
   ],
   "source": [
    "# greater or equal to(>=)\n",
    "a = 5\n",
    "b = 7\n",
    "a>=b"
   ]
  },
  {
   "cell_type": "code",
   "execution_count": 14,
   "metadata": {},
   "outputs": [
    {
     "data": {
      "text/plain": [
       "True"
      ]
     },
     "execution_count": 14,
     "metadata": {},
     "output_type": "execute_result"
    }
   ],
   "source": [
    "# less than(,)\n",
    "a = 5\n",
    "b = 7\n",
    "a<b"
   ]
  },
  {
   "cell_type": "code",
   "execution_count": 15,
   "metadata": {},
   "outputs": [
    {
     "data": {
      "text/plain": [
       "True"
      ]
     },
     "execution_count": 15,
     "metadata": {},
     "output_type": "execute_result"
    }
   ],
   "source": [
    "# less or equal to(>=)\n",
    "a = 5\n",
    "b = 7\n",
    "a<=b"
   ]
  },
  {
   "cell_type": "code",
   "execution_count": 16,
   "metadata": {},
   "outputs": [
    {
     "data": {
      "text/plain": [
       "False"
      ]
     },
     "execution_count": 16,
     "metadata": {},
     "output_type": "execute_result"
    }
   ],
   "source": [
    "# equal equal to(==) # this compares the thwo variables and returns true if the two values are the same and otherwise\n",
    "\n",
    "a = 10\n",
    "b = 5\n",
    "a == b # comparing a and b"
   ]
  },
  {
   "cell_type": "code",
   "execution_count": 17,
   "metadata": {},
   "outputs": [
    {
     "data": {
      "text/plain": [
       "True"
      ]
     },
     "execution_count": 17,
     "metadata": {},
     "output_type": "execute_result"
    }
   ],
   "source": [
    "# MEMBERSHIP\n",
    "# in/ not in\n",
    "\n",
    "4 in [1,4,5,6,8]"
   ]
  },
  {
   "cell_type": "code",
   "execution_count": 18,
   "metadata": {},
   "outputs": [
    {
     "data": {
      "text/plain": [
       "False"
      ]
     },
     "execution_count": 18,
     "metadata": {},
     "output_type": "execute_result"
    }
   ],
   "source": [
    "4 not in [1,4,5,6,8]"
   ]
  },
  {
   "cell_type": "code",
   "execution_count": 19,
   "metadata": {},
   "outputs": [
    {
     "data": {
      "text/plain": [
       "False"
      ]
     },
     "execution_count": 19,
     "metadata": {},
     "output_type": "execute_result"
    }
   ],
   "source": [
    "# IDENTITY\n",
    "\n",
    "#is/ is not\n",
    "a = \"Ola\"\n",
    "b = \"ola\"\n",
    "a is b"
   ]
  },
  {
   "cell_type": "code",
   "execution_count": 20,
   "metadata": {},
   "outputs": [
    {
     "data": {
      "text/plain": [
       "True"
      ]
     },
     "execution_count": 20,
     "metadata": {},
     "output_type": "execute_result"
    }
   ],
   "source": [
    "a is not b"
   ]
  },
  {
   "cell_type": "code",
   "execution_count": 21,
   "metadata": {},
   "outputs": [
    {
     "data": {
      "text/plain": [
       "True"
      ]
     },
     "execution_count": 21,
     "metadata": {},
     "output_type": "execute_result"
    }
   ],
   "source": [
    "# LOGICAL\n",
    "\n",
    "# or / and # used to join multiple conditions\n",
    "#all conditions must be true for 'and' to return true result\n",
    "#'or' returns true value if one of the conditions is true\n",
    "\n",
    "(2>5) or (7<10)"
   ]
  },
  {
   "cell_type": "code",
   "execution_count": 22,
   "metadata": {},
   "outputs": [
    {
     "data": {
      "text/plain": [
       "False"
      ]
     },
     "execution_count": 22,
     "metadata": {},
     "output_type": "execute_result"
    }
   ],
   "source": [
    "(2>5) and (7<10)"
   ]
  },
  {
   "cell_type": "markdown",
   "metadata": {},
   "source": [
    "# DATA TYPE IN PYTHON\n",
    "\n",
    "-immutable: it cant be modified or changed after declaration e.g numbers, strings, tuple\n",
    "\n",
    "-mutable: it be modified or changed after declaration e.g list, set, dictionary\n"
   ]
  },
  {
   "cell_type": "code",
   "execution_count": null,
   "metadata": {},
   "outputs": [],
   "source": [
    "# NUMBER\n",
    "\n",
    "num1 = 456 # int\n",
    "num2 = 34.2 # float\n",
    "num3 = 6 + 4j # complex\n"
   ]
  },
  {
   "cell_type": "code",
   "execution_count": null,
   "metadata": {},
   "outputs": [],
   "source": [
    "# STRING\n",
    "\n",
    "name = \"Seun\"\n",
    "name = 'Seun'\n",
    "info = \"\"\" \"\"\" # this helps to write on multiple lines\n"
   ]
  },
  {
   "cell_type": "markdown",
   "metadata": {},
   "source": [
    "# INDEXING AND SLICING\n",
    "\n",
    "#Indexing a way of getting access to a character in a string\n",
    "#Slicing is a process of getting access to characters with a string\n"
   ]
  },
  {
   "cell_type": "code",
   "execution_count": 23,
   "metadata": {},
   "outputs": [
    {
     "data": {
      "text/plain": [
       "'S'"
      ]
     },
     "execution_count": 23,
     "metadata": {},
     "output_type": "execute_result"
    }
   ],
   "source": [
    "name = \"Seun\"\n",
    "\n",
    "name[0]  #forward indexing"
   ]
  },
  {
   "cell_type": "code",
   "execution_count": 26,
   "metadata": {},
   "outputs": [
    {
     "data": {
      "text/plain": [
       "'S'"
      ]
     },
     "execution_count": 26,
     "metadata": {},
     "output_type": "execute_result"
    }
   ],
   "source": [
    "name = \"Seun\"\n",
    "name[-4] #backward indexing"
   ]
  },
  {
   "cell_type": "code",
   "execution_count": 24,
   "metadata": {},
   "outputs": [
    {
     "data": {
      "text/plain": [
       "'i'"
      ]
     },
     "execution_count": 24,
     "metadata": {},
     "output_type": "execute_result"
    }
   ],
   "source": [
    "name = \"olaitan\"\n",
    "name[3]"
   ]
  },
  {
   "cell_type": "code",
   "execution_count": 25,
   "metadata": {},
   "outputs": [
    {
     "data": {
      "text/plain": [
       "'t'"
      ]
     },
     "execution_count": 25,
     "metadata": {},
     "output_type": "execute_result"
    }
   ],
   "source": [
    "name = \"olaitan\"\n",
    "name[-3]"
   ]
  },
  {
   "cell_type": "markdown",
   "metadata": {},
   "source": [
    "# SLICING\n",
    "\n",
    "\n",
    "\n",
    "#[ index no: position no: no of char to skip]\n",
    "#position no starts from 1 unlike index no that begins at 0"
   ]
  },
  {
   "cell_type": "code",
   "execution_count": 27,
   "metadata": {},
   "outputs": [
    {
     "data": {
      "text/plain": [
       "'ai'"
      ]
     },
     "execution_count": 27,
     "metadata": {},
     "output_type": "execute_result"
    }
   ],
   "source": [
    "name = \"olaitan\"\n",
    "#return \"ai\" from the above name\n",
    "name[2:4]"
   ]
  },
  {
   "cell_type": "code",
   "execution_count": 39,
   "metadata": {},
   "outputs": [
    {
     "data": {
      "text/plain": [
       "'fun'"
      ]
     },
     "execution_count": 39,
     "metadata": {},
     "output_type": "execute_result"
    }
   ],
   "source": [
    "#return 'fun' in str below\n",
    "\n",
    "info = 'python is fun to learn'\n",
    "info[10:13]"
   ]
  },
  {
   "cell_type": "code",
   "execution_count": 44,
   "metadata": {},
   "outputs": [
    {
     "data": {
      "text/plain": [
       "'python is fun to'"
      ]
     },
     "execution_count": 44,
     "metadata": {},
     "output_type": "execute_result"
    }
   ],
   "source": [
    "info[0:16]"
   ]
  },
  {
   "cell_type": "code",
   "execution_count": 46,
   "metadata": {},
   "outputs": [
    {
     "data": {
      "text/plain": [
       "'ph  no'"
      ]
     },
     "execution_count": 46,
     "metadata": {},
     "output_type": "execute_result"
    }
   ],
   "source": [
    "# return # \"ph  no\"\n",
    "\n",
    "info[0:16:3] #to skip 2 chars, put 3. to skp 10 chars put 11"
   ]
  },
  {
   "cell_type": "code",
   "execution_count": 54,
   "metadata": {},
   "outputs": [
    {
     "data": {
      "text/plain": [
       "'tis e'"
      ]
     },
     "execution_count": 54,
     "metadata": {},
     "output_type": "execute_result"
    }
   ],
   "source": [
    "y = \"python is easy to master\"\n",
    "\n",
    "#return 'tis e'\n",
    "\n",
    "y[2::5]\n"
   ]
  },
  {
   "cell_type": "markdown",
   "metadata": {},
   "source": [
    "# STRING METHOD\n",
    "\n",
    "1. split\n",
    "2. strip\n",
    "3. replace\n",
    "4. startswith\n",
    "5. endswith\n",
    "6. upper/lower\n",
    "7. format"
   ]
  },
  {
   "cell_type": "code",
   "execution_count": 56,
   "metadata": {},
   "outputs": [
    {
     "data": {
      "text/plain": [
       "['python', 'is', 'easy', 'to', 'master']"
      ]
     },
     "execution_count": 56,
     "metadata": {},
     "output_type": "execute_result"
    }
   ],
   "source": [
    "# SPLIT       #split returns list\n",
    "\n",
    "y = \"python is easy to master\"\n",
    "\n",
    "y.split()    # split by space\n",
    "\n"
   ]
  },
  {
   "cell_type": "code",
   "execution_count": 57,
   "metadata": {},
   "outputs": [
    {
     "data": {
      "text/plain": [
       "['we', 'are', 'talking', 'about', 'string', 'method']"
      ]
     },
     "execution_count": 57,
     "metadata": {},
     "output_type": "execute_result"
    }
   ],
   "source": [
    "i = \"we>are>talking>about>string>method\"\n",
    "\n",
    "i.split(\">\")"
   ]
  },
  {
   "cell_type": "code",
   "execution_count": 58,
   "metadata": {},
   "outputs": [
    {
     "data": {
      "text/plain": [
       "'Olaitan'"
      ]
     },
     "execution_count": 58,
     "metadata": {},
     "output_type": "execute_result"
    }
   ],
   "source": [
    "# STRIP\n",
    "# it is used to remove exceesive space before and after text\n",
    "\n",
    "name = \"   Olaitan   \"\n",
    "name.strip()"
   ]
  },
  {
   "cell_type": "code",
   "execution_count": 59,
   "metadata": {},
   "outputs": [
    {
     "data": {
      "text/plain": [
       "'olaitan'"
      ]
     },
     "execution_count": 59,
     "metadata": {},
     "output_type": "execute_result"
    }
   ],
   "source": [
    "name = \"###>>olaitan##\"\n",
    "\n",
    "name.strip(\"#\").strip(\">\")"
   ]
  },
  {
   "cell_type": "code",
   "execution_count": 60,
   "metadata": {},
   "outputs": [
    {
     "data": {
      "text/plain": [
       "'python is easy to learn'"
      ]
     },
     "execution_count": 60,
     "metadata": {},
     "output_type": "execute_result"
    }
   ],
   "source": [
    "#REPLACE\n",
    "\n",
    "info = \"python is fun to learn\"\n",
    "info.replace(\"fun\", \"easy\")"
   ]
  },
  {
   "cell_type": "code",
   "execution_count": 61,
   "metadata": {},
   "outputs": [
    {
     "data": {
      "text/plain": [
       "True"
      ]
     },
     "execution_count": 61,
     "metadata": {},
     "output_type": "execute_result"
    }
   ],
   "source": [
    "# STARTSWITH\n",
    "\n",
    "# it returns boolean value\n",
    "\n",
    "name = \"olaitan\"\n",
    "name.startswith(\"o\")"
   ]
  },
  {
   "cell_type": "code",
   "execution_count": 62,
   "metadata": {},
   "outputs": [
    {
     "data": {
      "text/plain": [
       "False"
      ]
     },
     "execution_count": 62,
     "metadata": {},
     "output_type": "execute_result"
    }
   ],
   "source": [
    "# ENDSWITH\n",
    "\n",
    "name = \"olaitan\"\n",
    "name.endswith(\"a\")"
   ]
  },
  {
   "cell_type": "code",
   "execution_count": 63,
   "metadata": {},
   "outputs": [
    {
     "data": {
      "text/plain": [
       "'OLAITAN'"
      ]
     },
     "execution_count": 63,
     "metadata": {},
     "output_type": "execute_result"
    }
   ],
   "source": [
    "name.upper()"
   ]
  },
  {
   "cell_type": "code",
   "execution_count": 64,
   "metadata": {},
   "outputs": [
    {
     "data": {
      "text/plain": [
       "'olaitan'"
      ]
     },
     "execution_count": 64,
     "metadata": {},
     "output_type": "execute_result"
    }
   ],
   "source": [
    "name = \"OLAITAN\"\n",
    "name.lower()"
   ]
  },
  {
   "cell_type": "code",
   "execution_count": 65,
   "metadata": {},
   "outputs": [
    {
     "name": "stdout",
     "output_type": "stream",
     "text": [
      "OLAITAN\n"
     ]
    }
   ],
   "source": [
    "print(name)"
   ]
  },
  {
   "cell_type": "code",
   "execution_count": 66,
   "metadata": {},
   "outputs": [],
   "source": [
    "# FORMAT\n",
    "\n",
    "info = \"i will {} to {} python\".format(\"love\", \"learn\")"
   ]
  },
  {
   "cell_type": "code",
   "execution_count": 67,
   "metadata": {},
   "outputs": [
    {
     "data": {
      "text/plain": [
       "'i will love to learn python'"
      ]
     },
     "execution_count": 67,
     "metadata": {},
     "output_type": "execute_result"
    }
   ],
   "source": [
    "info"
   ]
  },
  {
   "cell_type": "markdown",
   "metadata": {},
   "source": [
    "# LIST DATATYPE"
   ]
  },
  {
   "cell_type": "code",
   "execution_count": 68,
   "metadata": {},
   "outputs": [],
   "source": [
    "#list is used to store data\n",
    "list1 = []  #empty list"
   ]
  },
  {
   "cell_type": "code",
   "execution_count": 69,
   "metadata": {},
   "outputs": [
    {
     "data": {
      "text/plain": [
       "'ola'"
      ]
     },
     "execution_count": 69,
     "metadata": {},
     "output_type": "execute_result"
    }
   ],
   "source": [
    "list2= [1,2,\"ola\",\"lion\",847.4,\"cow\"]\n",
    "\n",
    "list2[2]"
   ]
  },
  {
   "cell_type": "code",
   "execution_count": 70,
   "metadata": {},
   "outputs": [
    {
     "data": {
      "text/plain": [
       "['lion', 847.4, 'cow']"
      ]
     },
     "execution_count": 70,
     "metadata": {},
     "output_type": "execute_result"
    }
   ],
   "source": [
    "list2[3:]"
   ]
  },
  {
   "cell_type": "code",
   "execution_count": 71,
   "metadata": {},
   "outputs": [
    {
     "data": {
      "text/plain": [
       "['lion', 847.4, 'cow']"
      ]
     },
     "execution_count": 71,
     "metadata": {},
     "output_type": "execute_result"
    }
   ],
   "source": [
    "list2[3:6]"
   ]
  },
  {
   "cell_type": "code",
   "execution_count": 88,
   "metadata": {},
   "outputs": [
    {
     "name": "stdout",
     "output_type": "stream",
     "text": [
      "['James', 'Fatima', 'Olaitan']\n"
     ]
    }
   ],
   "source": [
    "# LIST METHODS\n",
    "\n",
    "# 1. APPEND\n",
    "\n",
    "lis = [\"James\", 'Fatima']\n",
    "lis.append(\"Olaitan\")\n",
    "print(lis)"
   ]
  },
  {
   "cell_type": "code",
   "execution_count": 92,
   "metadata": {},
   "outputs": [
    {
     "name": "stdout",
     "output_type": "stream",
     "text": [
      "['James', 'Kola']\n"
     ]
    }
   ],
   "source": [
    "# change fatima to Kola\n",
    "lis[1] = \"Kola\"\n",
    "print(lis)"
   ]
  },
  {
   "cell_type": "code",
   "execution_count": 93,
   "metadata": {},
   "outputs": [
    {
     "data": {
      "text/plain": [
       "'Kola'"
      ]
     },
     "execution_count": 93,
     "metadata": {},
     "output_type": "execute_result"
    }
   ],
   "source": [
    "lis.pop(1) # POP is used to remove element from a list"
   ]
  },
  {
   "cell_type": "code",
   "execution_count": 94,
   "metadata": {},
   "outputs": [
    {
     "data": {
      "text/plain": [
       "['James']"
      ]
     },
     "execution_count": 94,
     "metadata": {},
     "output_type": "execute_result"
    }
   ],
   "source": [
    "lis"
   ]
  },
  {
   "cell_type": "code",
   "execution_count": 95,
   "metadata": {},
   "outputs": [
    {
     "name": "stdout",
     "output_type": "stream",
     "text": [
      "[]\n"
     ]
    }
   ],
   "source": [
    "lis.remove(\"James\")\n",
    "print(lis)"
   ]
  },
  {
   "cell_type": "code",
   "execution_count": 96,
   "metadata": {},
   "outputs": [
    {
     "name": "stdout",
     "output_type": "stream",
     "text": [
      "-----\n"
     ]
    }
   ],
   "source": [
    "print('-'*5)"
   ]
  },
  {
   "cell_type": "markdown",
   "metadata": {},
   "source": [
    "# TUPLE  | 30-04-2024"
   ]
  },
  {
   "cell_type": "code",
   "execution_count": 2,
   "metadata": {},
   "outputs": [],
   "source": [
    "# Tupple is immutable datatype\n",
    "\n",
    "tup = () #empty tiple"
   ]
  },
  {
   "cell_type": "code",
   "execution_count": 9,
   "metadata": {},
   "outputs": [
    {
     "data": {
      "text/plain": [
       "'ola'"
      ]
     },
     "execution_count": 9,
     "metadata": {},
     "output_type": "execute_result"
    }
   ],
   "source": [
    "tup1 = (1,2,3,\"ola\", \"james\", \"lion\")\n",
    "tup1[3]"
   ]
  },
  {
   "cell_type": "code",
   "execution_count": 10,
   "metadata": {},
   "outputs": [
    {
     "data": {
      "text/plain": [
       "(2, 3, 'ola', 'james')"
      ]
     },
     "execution_count": 10,
     "metadata": {},
     "output_type": "execute_result"
    }
   ],
   "source": [
    "tup1[1:5]"
   ]
  },
  {
   "cell_type": "code",
   "execution_count": 14,
   "metadata": {},
   "outputs": [
    {
     "data": {
      "text/plain": [
       "('lion', 'james', 'ola', 3, 2, 1)"
      ]
     },
     "execution_count": 14,
     "metadata": {},
     "output_type": "execute_result"
    }
   ],
   "source": [
    "tup1[::-1]"
   ]
  },
  {
   "cell_type": "markdown",
   "metadata": {},
   "source": [
    "# SET"
   ]
  },
  {
   "cell_type": "code",
   "execution_count": 7,
   "metadata": {},
   "outputs": [
    {
     "name": "stdout",
     "output_type": "stream",
     "text": [
      "{2, 5, 7}\n"
     ]
    }
   ],
   "source": [
    " set1 = {} #empty set  # set does not accept duplicate values # it is unordered\n",
    "set2 = {2,5,7,2}\n",
    "print(set2)"
   ]
  },
  {
   "cell_type": "markdown",
   "metadata": {},
   "source": [
    "# DICTIONARY"
   ]
  },
  {
   "cell_type": "code",
   "execution_count": 8,
   "metadata": {},
   "outputs": [
    {
     "name": "stdout",
     "output_type": "stream",
     "text": [
      "{'name': 'Olaitan', 'age': 12, 'address': 'Olowoira'}\n"
     ]
    }
   ],
   "source": [
    "# it has key and value pair relationship\n",
    "dic = {\"name\": \"Olaitan\", \"age\": 12, \"address\": \"Olowoira\"}\n",
    "print(dic)"
   ]
  },
  {
   "cell_type": "code",
   "execution_count": 9,
   "metadata": {},
   "outputs": [
    {
     "name": "stdout",
     "output_type": "stream",
     "text": [
      "Olowoira\n"
     ]
    }
   ],
   "source": [
    "print(dic[\"address\"])"
   ]
  },
  {
   "cell_type": "code",
   "execution_count": 10,
   "metadata": {},
   "outputs": [
    {
     "name": "stdout",
     "output_type": "stream",
     "text": [
      "{'name': 'Olaitan', 'age': 12, 'address': 'Olowoira', 'salary': 83938}\n"
     ]
    }
   ],
   "source": [
    "# adding new element to dictionary\n",
    "\n",
    "dic[\"salary\"]= 83938\n",
    "\n",
    "print(dic)"
   ]
  },
  {
   "cell_type": "code",
   "execution_count": 11,
   "metadata": {},
   "outputs": [
    {
     "data": {
      "text/plain": [
       "12"
      ]
     },
     "execution_count": 11,
     "metadata": {},
     "output_type": "execute_result"
    }
   ],
   "source": [
    "#to delete from a dictionary\n",
    "dic.pop(\"age\")"
   ]
  },
  {
   "cell_type": "code",
   "execution_count": 23,
   "metadata": {},
   "outputs": [],
   "source": [
    "# dictionary of list\n",
    "\n",
    "dic = {\"name\": [\"Olaitan\", \"james\", \"sancho\", \"onana\"],\n",
    "       \"age\": [12, 33, 71, 23],\n",
    "       \"address\": [\"Olowoira\", \"berger\", \"ikeja\", \"ikorodu\"]}\n",
    "                   "
   ]
  },
  {
   "cell_type": "code",
   "execution_count": 24,
   "metadata": {},
   "outputs": [
    {
     "name": "stdout",
     "output_type": "stream",
     "text": [
      "{'name': ['Olaitan', 'james', 'sancho', 'onana'], 'age': [12, 33, 71, 23], 'address': ['Olowoira', 'berger', 'ikeja', 'ikorodu']}\n"
     ]
    }
   ],
   "source": [
    "print(dic)"
   ]
  },
  {
   "cell_type": "code",
   "execution_count": 27,
   "metadata": {},
   "outputs": [],
   "source": [
    "dic[\"address\"][1] = \"Arepo\""
   ]
  },
  {
   "cell_type": "code",
   "execution_count": 28,
   "metadata": {},
   "outputs": [
    {
     "name": "stdout",
     "output_type": "stream",
     "text": [
      "{'name': ['Olaitan', 'james', 'sancho', 'onana'], 'age': [12, 33, 71, 23], 'address': ['Olowoira', 'Arepo', 'ikeja', 'ikorodu']}\n"
     ]
    }
   ],
   "source": [
    "print(dic)"
   ]
  },
  {
   "cell_type": "markdown",
   "metadata": {},
   "source": [
    "# CONTROL IN PYTHON\n",
    "Control flow is order at which python is been executed\n",
    "\n",
    "1. Conditional statment\n",
    "   a. if\n",
    "    b. else\n",
    "    b. elif\n",
    "    \n",
    "2. loop statement\n",
    "    a. for b. while\n",
    "3. loop control statement\n",
    "    a. break b. continue\n",
    "4. Error handling\n",
    "   a. try   b. except"
   ]
  },
  {
   "cell_type": "code",
   "execution_count": 31,
   "metadata": {},
   "outputs": [
    {
     "name": "stdout",
     "output_type": "stream",
     "text": [
      "We are good to go!!!\n",
      "What is your name Oluwaseun\n",
      "Will you like to generate a nivkname from your name \n"
     ]
    }
   ],
   "source": [
    "a = 3\n",
    "if a<9:\n",
    "    print(\"We are good to go!!!\")\n",
    "    name = input(\"What is your name \")\n",
    "    print(\"Will you like to generate a nivkname from your name \")"
   ]
  },
  {
   "cell_type": "code",
   "execution_count": 35,
   "metadata": {},
   "outputs": [
    {
     "name": "stdout",
     "output_type": "stream",
     "text": [
      "Enter your guess: 1\n"
     ]
    }
   ],
   "source": [
    "from random import randint\n",
    "num = randint(1,10)\n",
    "guess = eval(input('Enter your guess: '))\n",
    "if guess==num:\n",
    "    print('You got it!')"
   ]
  },
  {
   "cell_type": "code",
   "execution_count": 36,
   "metadata": {},
   "outputs": [
    {
     "name": "stdout",
     "output_type": "stream",
     "text": [
      "We are good to go!!!\n",
      "What is your name seun\n",
      "Will you like to generate a nivkname from your name \n"
     ]
    }
   ],
   "source": [
    "a = 3\n",
    "if a<9:\n",
    "    print(\"We are good to go!!!\")\n",
    "    name = input(\"What is your name \")\n",
    "    print(\"Will you like to generate a nivkname from your name \")\n",
    "else:\n",
    "    print(\"some set of people must have gone!!!\")\n",
    "    y = 7\n",
    "    u = 10\n",
    "    total = y + u\n",
    "    print(\"since the condition is not met, the sum is {}\".format(total))"
   ]
  },
  {
   "cell_type": "code",
   "execution_count": 38,
   "metadata": {},
   "outputs": [
    {
     "name": "stdout",
     "output_type": "stream",
     "text": [
      "we are in the block if \n"
     ]
    }
   ],
   "source": [
    "w = 6\n",
    "if w > 5:\n",
    "    print(\"we are in the block if \")\n",
    "elif w == 10:\n",
    "    print(\"we are in the block of elif \")\n",
    "else:\n",
    "    print(\"we are in the block of else \")"
   ]
  },
  {
   "cell_type": "code",
   "execution_count": 42,
   "metadata": {},
   "outputs": [
    {
     "name": "stdout",
     "output_type": "stream",
     "text": [
      "o l a i t a n "
     ]
    }
   ],
   "source": [
    "# for loop\n",
    "\n",
    "# used to iterate over iterable elements\n",
    "\n",
    "name = \"olaitan\"\n",
    "for i in name:\n",
    "    print(i,end =\" \")"
   ]
  },
  {
   "cell_type": "code",
   "execution_count": null,
   "metadata": {},
   "outputs": [],
   "source": [
    "grade = eval(input('Enter your score: '))\n",
    "if grade>=90:\n",
    "    print('A')\n",
    "if grade>=80 and grade<90:\n",
    "    print('B')\n",
    "if grade>=70 and grade<80:\n",
    "    print('C')\n",
    "if grade>=60 and grade<70:\n",
    "    print('D')\n",
    "if grade<60:\n",
    "    print('F')"
   ]
  },
  {
   "cell_type": "code",
   "execution_count": 3,
   "metadata": {},
   "outputs": [
    {
     "name": "stdout",
     "output_type": "stream",
     "text": [
      "inside while loop 0 time\n",
      "inside while loop 1 time\n",
      "inside while loop 2 time\n",
      "inside while loop 3 time\n",
      "inside while loop 4 time\n",
      "inside while loop 5 time\n",
      "inside while loop 6 time\n",
      "inside while loop 7 time\n"
     ]
    }
   ],
   "source": [
    "# WHILE LOOP\n",
    "\n",
    "a = 0\n",
    "while a <=7:\n",
    "    print(\"inside while loop {} time\".format(a))\n",
    "    a+=1"
   ]
  },
  {
   "cell_type": "code",
   "execution_count": null,
   "metadata": {},
   "outputs": [
    {
     "name": "stdout",
     "output_type": "stream",
     "text": [
      "We are good!\n",
      "We are good!\n",
      "We are good!\n",
      "We are good!\n",
      "We are good!\n"
     ]
    }
   ],
   "source": [
    "# WHILE TRUE\n",
    "\n",
    "t = 4\n",
    "while True:\n",
    "    if t<=8:\n",
    "        print(\"We are good!\")\n",
    "    t+=1"
   ]
  },
  {
   "cell_type": "code",
   "execution_count": 1,
   "metadata": {},
   "outputs": [],
   "source": [
    "# LOOP CONTROL SYSTEM BREAK\n",
    "\n",
    "all_population = [1,2,3,4,5,6,7,8,9,10,11,12,13,14,15,16,17,18,19,20]\n",
    "\n",
    "odd_population = []\n",
    "even_population = []\n",
    "for j in all_population:\n",
    "    if j ==12:\n",
    "        break\n",
    "    if j %2 ==0:\n",
    "        even_population.append(j)\n",
    "    else:\n",
    "        odd_population.append(j)"
   ]
  },
  {
   "cell_type": "code",
   "execution_count": 2,
   "metadata": {},
   "outputs": [
    {
     "name": "stdout",
     "output_type": "stream",
     "text": [
      "[1, 3, 5, 7, 9, 11]\n"
     ]
    }
   ],
   "source": [
    "print(odd_population)"
   ]
  },
  {
   "cell_type": "code",
   "execution_count": 4,
   "metadata": {},
   "outputs": [
    {
     "data": {
      "text/plain": [
       "[2, 4, 6, 8, 10]"
      ]
     },
     "execution_count": 4,
     "metadata": {},
     "output_type": "execute_result"
    }
   ],
   "source": [
    "even_population"
   ]
  },
  {
   "cell_type": "markdown",
   "metadata": {},
   "source": [
    "# ERROR HANDLING | 2-5-2024\n",
    "\n",
    "\n",
    "1. TRY  \n",
    "2. EXCEPT\n",
    "3. FINALLY"
   ]
  },
  {
   "cell_type": "code",
   "execution_count": 6,
   "metadata": {},
   "outputs": [
    {
     "ename": "IndexError",
     "evalue": "list index out of range",
     "output_type": "error",
     "traceback": [
      "\u001b[1;31m---------------------------------------------------------------------------\u001b[0m",
      "\u001b[1;31mIndexError\u001b[0m                                Traceback (most recent call last)",
      "\u001b[1;32m<ipython-input-6-30e0ac0fa429>\u001b[0m in \u001b[0;36m<module>\u001b[1;34m\u001b[0m\n\u001b[0;32m      1\u001b[0m \u001b[0my\u001b[0m \u001b[1;33m=\u001b[0m \u001b[1;33m[\u001b[0m\u001b[1;36m12\u001b[0m\u001b[1;33m,\u001b[0m\u001b[1;36m3\u001b[0m\u001b[1;33m,\u001b[0m\u001b[1;36m6\u001b[0m\u001b[1;33m,\u001b[0m\u001b[1;36m7\u001b[0m\u001b[1;33m]\u001b[0m\u001b[1;33m\u001b[0m\u001b[1;33m\u001b[0m\u001b[0m\n\u001b[1;32m----> 2\u001b[1;33m \u001b[0mprint\u001b[0m\u001b[1;33m(\u001b[0m\u001b[1;34m\"Element at index 5 id \"\u001b[0m\u001b[1;33m,\u001b[0m \u001b[0my\u001b[0m\u001b[1;33m[\u001b[0m\u001b[1;36m5\u001b[0m\u001b[1;33m]\u001b[0m\u001b[1;33m)\u001b[0m\u001b[1;33m\u001b[0m\u001b[1;33m\u001b[0m\u001b[0m\n\u001b[0m\u001b[0;32m      3\u001b[0m \u001b[0mprint\u001b[0m\u001b[1;33m(\u001b[0m\u001b[1;34m\"well, we are good at error handling in python\"\u001b[0m\u001b[1;33m)\u001b[0m\u001b[1;33m\u001b[0m\u001b[1;33m\u001b[0m\u001b[0m\n",
      "\u001b[1;31mIndexError\u001b[0m: list index out of range"
     ]
    }
   ],
   "source": [
    "y = [12,3,6,7]\n",
    "print(\"Element at index 5 id \", y[5])\n",
    "print(\"well, we are good at error handling in python\")"
   ]
  },
  {
   "cell_type": "code",
   "execution_count": 7,
   "metadata": {},
   "outputs": [
    {
     "name": "stdout",
     "output_type": "stream",
     "text": [
      "no element of index 5\n",
      "well, we are good at error handling in python\n"
     ]
    }
   ],
   "source": [
    "y = [12,3,6,7]\n",
    "try:\n",
    "    print(\"Element at index 5 id \", y[5])\n",
    "    print(\"well, we are good at error handling in python\")\n",
    "except:\n",
    "    print(\"no element of index 5\")\n",
    "    print(\"well, we are good at error handling in python\")"
   ]
  },
  {
   "cell_type": "code",
   "execution_count": 8,
   "metadata": {},
   "outputs": [
    {
     "name": "stdout",
     "output_type": "stream",
     "text": [
      "no element of index 5\n",
      "well, we are good at error handling in python\n",
      "Bingo\n"
     ]
    }
   ],
   "source": [
    "# FINALLY: whatever in the finally block will be executed regardless of the errors in the code\n",
    "\n",
    "y = [12,3,6,7]\n",
    "try:\n",
    "    print(\"Element at index 5 id \", y[5])\n",
    "    print(\"well, we are good at error handling in python\")\n",
    "except:\n",
    "    print(\"no element of index 5\")\n",
    "    print(\"well, we are good at error handling in python\")\n",
    "finally:\n",
    "    print(\"Bingo\")"
   ]
  },
  {
   "cell_type": "markdown",
   "metadata": {},
   "source": [
    "# FUNCTION"
   ]
  },
  {
   "cell_type": "code",
   "execution_count": 15,
   "metadata": {},
   "outputs": [],
   "source": [
    "# Function is a group of statements defined under a specific name to perform a specific task\n",
    "# it is used to save several lines of code"
   ]
  },
  {
   "cell_type": "code",
   "execution_count": 17,
   "metadata": {},
   "outputs": [],
   "source": [
    "# TYPES OF FUNCTIONS:\n",
    "\n",
    "#1. NON-PARAMETER FUNCTION e.g\n",
    "def greeting():\n",
    "    print(\"Hello everyone, are you all set for the journey\")\n",
    "\n"
   ]
  },
  {
   "cell_type": "code",
   "execution_count": 18,
   "metadata": {},
   "outputs": [
    {
     "name": "stdout",
     "output_type": "stream",
     "text": [
      "Hello everyone, are you all set for the journey\n"
     ]
    }
   ],
   "source": [
    "greeting()"
   ]
  },
  {
   "cell_type": "code",
   "execution_count": 20,
   "metadata": {},
   "outputs": [],
   "source": [
    "# 2. PARAMETER FUNCTION\n",
    "# It always RETURN a value \n",
    "\n",
    "def add_two_numbers(w, o):\n",
    "    total = w + o\n",
    "    return total"
   ]
  },
  {
   "cell_type": "code",
   "execution_count": 21,
   "metadata": {},
   "outputs": [
    {
     "data": {
      "text/plain": [
       "36"
      ]
     },
     "execution_count": 21,
     "metadata": {},
     "output_type": "execute_result"
    }
   ],
   "source": [
    "add_two_numbers(20,16)"
   ]
  },
  {
   "cell_type": "code",
   "execution_count": 22,
   "metadata": {},
   "outputs": [],
   "source": [
    "def add_two_names(w, o):\n",
    "    total = w + o\n",
    "    return total"
   ]
  },
  {
   "cell_type": "code",
   "execution_count": 25,
   "metadata": {},
   "outputs": [
    {
     "data": {
      "text/plain": [
       "'OluwaseunMike'"
      ]
     },
     "execution_count": 25,
     "metadata": {},
     "output_type": "execute_result"
    }
   ],
   "source": [
    "add_two_names(\"Oluwaseun\", \"Mike\")"
   ]
  },
  {
   "cell_type": "code",
   "execution_count": 26,
   "metadata": {},
   "outputs": [],
   "source": [
    "# write a function that converts minutes to second\n",
    "\n",
    "def min_to_sec(m):\n",
    "    In_sec = m * 60\n",
    "    return In_sec"
   ]
  },
  {
   "cell_type": "code",
   "execution_count": 29,
   "metadata": {},
   "outputs": [
    {
     "data": {
      "text/plain": [
       "120"
      ]
     },
     "execution_count": 29,
     "metadata": {},
     "output_type": "execute_result"
    }
   ],
   "source": [
    "min_to_sec(2)"
   ]
  },
  {
   "cell_type": "code",
   "execution_count": 31,
   "metadata": {},
   "outputs": [
    {
     "data": {
      "text/plain": [
       "240"
      ]
     },
     "execution_count": 31,
     "metadata": {},
     "output_type": "execute_result"
    }
   ],
   "source": [
    "# ANONYMOUS function\n",
    "# lamba is the function used here\n",
    "\n",
    "# Q: write a function that converts minutes to second\n",
    "\n",
    "sec = lambda mins : mins * 60\n",
    "sec(4)"
   ]
  },
  {
   "cell_type": "code",
   "execution_count": 33,
   "metadata": {},
   "outputs": [
    {
     "data": {
      "text/plain": [
       "48"
      ]
     },
     "execution_count": 33,
     "metadata": {},
     "output_type": "execute_result"
    }
   ],
   "source": [
    "# function to multiply three numbers\n",
    "\n",
    "y = lambda w, i, m : w * i * m\n",
    "y(4,3,4)"
   ]
  },
  {
   "cell_type": "code",
   "execution_count": 34,
   "metadata": {},
   "outputs": [],
   "source": [
    "# Write a function that calculates the area of a triangle\n",
    "# formula: 1/2 base * height\n",
    "\n",
    "\n",
    "def area_of_triangle(b,h):\n",
    "    area = b/2 * h\n",
    "    return area"
   ]
  },
  {
   "cell_type": "code",
   "execution_count": 35,
   "metadata": {},
   "outputs": [
    {
     "data": {
      "text/plain": [
       "15.0"
      ]
     },
     "execution_count": 35,
     "metadata": {},
     "output_type": "execute_result"
    }
   ],
   "source": [
    "area_of_triangle(10,3)"
   ]
  },
  {
   "cell_type": "code",
   "execution_count": 37,
   "metadata": {},
   "outputs": [
    {
     "data": {
      "text/plain": [
       "5.0"
      ]
     },
     "execution_count": 37,
     "metadata": {},
     "output_type": "execute_result"
    }
   ],
   "source": [
    "\n",
    "area = lambda b, h: b/2 * h\n",
    "area(2,5)"
   ]
  },
  {
   "cell_type": "code",
   "execution_count": null,
   "metadata": {},
   "outputs": [],
   "source": [
    "# Write an application that will count the number of votes by candidates in an election\n",
    "\n",
    "a = []\n",
    "b = []\n",
    "c = []\n",
    "void = []\n",
    "number_of_voter = 0\n",
    "while True:\n",
    "    if number_of_voter <= 14:\n",
    "        vote = input(\"Count your vote \").upper()\n",
    "        if vote == \"A\":\n",
    "            a.append(vote)\n",
    "        elif vote == \"B\":\n",
    "            b.append(vote)\n",
    "        elif vote == \"C\":\n",
    "            c.append(vote)\n",
    "        else:\n",
    "            void.append(vote)\n",
    "        number_of_voter +=1\n",
    "        break"
   ]
  },
  {
   "cell_type": "code",
   "execution_count": null,
   "metadata": {},
   "outputs": [],
   "source": [
    "#I am a skilled and detail-oriented data analyst with a passion for\n",
    "uncovering insights and driving data-informed decisions. With [X years] of\n",
    "experience in the field, I have honed my abilities in data interpretation, \n",
    "statistical analysis, and visualization techniques.\n",
    "\n",
    "\n",
    "Multidisciplinary, driven Data Scientist/Analyst with passion for condensing large data into a simple understanding story.\n",
    "Adept at gathering, cleaning, analyzing and interpreting large data with strong attention to details to deliver insight \n",
    "and implement action-oriented solution to complex business problem. Significant experience at creating robotic regression,\n",
    "classification, and clustering model through \n",
    "adequate feature engineering to determine the best course of action to meet business needs"
   ]
  },
  {
   "cell_type": "markdown",
   "metadata": {},
   "source": [
    "# OBJECT ORIENTED PROGRAMMING | 06-05-24"
   ]
  },
  {
   "cell_type": "code",
   "execution_count": 1,
   "metadata": {},
   "outputs": [],
   "source": [
    "# It is a paradigm used to organized codes into obects or classes for reuseable or easy access\n",
    "# class is a group of functions \n",
    "# A method is the function the obj to perfom"
   ]
  },
  {
   "cell_type": "code",
   "execution_count": 5,
   "metadata": {},
   "outputs": [],
   "source": [
    "class Human:\n",
    "    def __init__(self, first_name, last_name, age):\n",
    "        self.first_name = first_name\n",
    "        self.last_name = last_name\n",
    "        self.age = age\n",
    "        \n",
    "    def greeting(self):\n",
    "        print(f\"my name is {self.first_name} {self.last_name} and i am greeting everyone here \")\n",
    "        \n",
    "    def eat(self):\n",
    "        print(\"i can eat any type of food\")\n",
    "        "
   ]
  },
  {
   "cell_type": "code",
   "execution_count": 6,
   "metadata": {},
   "outputs": [],
   "source": [
    "first_human = Human(\"Olaitan\", \"James\", 12)"
   ]
  },
  {
   "cell_type": "code",
   "execution_count": 7,
   "metadata": {},
   "outputs": [
    {
     "name": "stdout",
     "output_type": "stream",
     "text": [
      "my name is Olaitan James and i am greeting everyone here \n"
     ]
    }
   ],
   "source": [
    "# Let the first_human greet people\n",
    "first_human.greeting()"
   ]
  },
  {
   "cell_type": "code",
   "execution_count": 8,
   "metadata": {},
   "outputs": [
    {
     "name": "stdout",
     "output_type": "stream",
     "text": [
      "i can eat any type of food\n"
     ]
    }
   ],
   "source": [
    "first_human.eat()"
   ]
  },
  {
   "cell_type": "code",
   "execution_count": 9,
   "metadata": {},
   "outputs": [],
   "source": [
    "# INHERITANCE"
   ]
  },
  {
   "cell_type": "code",
   "execution_count": 10,
   "metadata": {},
   "outputs": [],
   "source": [
    "class ChildHuman(Human):\n",
    "    def __init__(self, first_name, last_name, age, gender):\n",
    "        super().__init__(first_name, last_name, age)\n",
    "        self.gender = gender\n",
    "        \n",
    "    def gender_check(self):\n",
    "        if self.gender == \"male\":\n",
    "            print(\"I am a man!!\")\n",
    "        else:\n",
    "            print(\"I will wait to confirm my attributes \")"
   ]
  },
  {
   "cell_type": "code",
   "execution_count": 13,
   "metadata": {},
   "outputs": [],
   "source": [
    "first_child = ChildHuman(\"Kazeem\", \"Sancho\", 12, \"male\")\n"
   ]
  },
  {
   "cell_type": "code",
   "execution_count": 14,
   "metadata": {},
   "outputs": [
    {
     "name": "stdout",
     "output_type": "stream",
     "text": [
      "I am a man!!\n"
     ]
    }
   ],
   "source": [
    "first_child.gender_check()"
   ]
  },
  {
   "cell_type": "code",
   "execution_count": null,
   "metadata": {},
   "outputs": [],
   "source": []
  },
  {
   "cell_type": "code",
   "execution_count": 92,
   "metadata": {},
   "outputs": [],
   "source": [
    "# class project\n",
    "\n",
    "class CarOperation:\n",
    "    def __init__(self, maker, model, year):\n",
    "        self.maker = maker\n",
    "        self.model = model\n",
    "        self.year = year\n",
    "        self.engine_on = False\n",
    "        self.speed = 0\n",
    "        \n",
    "    def engine_start(self):\n",
    "        if self.engine_on == False:\n",
    "            print(f\"{self.maker} {self.model} {self.year} started!!\")\n",
    "            self.engine_on = True\n",
    "        else:\n",
    "            print(f\"{self.maker} {self.model} {self.year} already started!!\")\n",
    "                  \n",
    "    def engine_off(self):\n",
    "        if self.engine_on == True:\n",
    "            print(f\"{self.maker} {self.model} {self.year} off!!\")\n",
    "            self.engine_on = False\n",
    "        else:\n",
    "            print(f\"{self.maker} {self.model} {self.year} already off!!\")\n",
    "            \n",
    "    def accelerate(self, acceleration):\n",
    "        if self.engine_on == True:\n",
    "            self.speed+=acceleration\n",
    "            print(f\"{self.maker} {self.model} {self.year} accelerating at {self.speed} km/hr!!\")\n",
    "            if self.speed > 80:\n",
    "                print(\"You need to decellerate at this speed!!\")\n",
    "            else:\n",
    "                print(\"Still within the speed limit\")\n",
    "        else:\n",
    "            print(\"You need to start the engine before accelerating \")\n",
    "            \n",
    "    def decelerate(self, deceleration):\n",
    "        if self.speed >0:\n",
    "            self.speed -= deceleration\n",
    "            print(f\"{self.maker} {self.model} {self.year} decelerating to {self.speed} km/hr!!\")\n",
    "        else:\n",
    "            print(\"You need to be on speed before decelerating \")\n",
    "        "
   ]
  },
  {
   "cell_type": "code",
   "execution_count": 93,
   "metadata": {},
   "outputs": [
    {
     "name": "stdout",
     "output_type": "stream",
     "text": [
      "Toyota Camry 2023 started!!\n"
     ]
    }
   ],
   "source": [
    "car1 = CarOperation(\"Toyota\", \"Camry\", 2023)\n",
    "car1.engine_start()"
   ]
  },
  {
   "cell_type": "code",
   "execution_count": 86,
   "metadata": {},
   "outputs": [
    {
     "name": "stdout",
     "output_type": "stream",
     "text": [
      "Toyota Camry 2023 already started!!\n"
     ]
    }
   ],
   "source": [
    "car1.engine_start()"
   ]
  },
  {
   "cell_type": "code",
   "execution_count": 87,
   "metadata": {},
   "outputs": [
    {
     "name": "stdout",
     "output_type": "stream",
     "text": [
      "Toyota Camry 2023 accelerating at 20 km/hr!!\n",
      "Still within the speed limit\n"
     ]
    }
   ],
   "source": [
    "car1.accelerate(20)"
   ]
  },
  {
   "cell_type": "code",
   "execution_count": 88,
   "metadata": {},
   "outputs": [
    {
     "name": "stdout",
     "output_type": "stream",
     "text": [
      "Toyota Camry 2023 off!!\n"
     ]
    }
   ],
   "source": [
    "car1.engine_off()"
   ]
  },
  {
   "cell_type": "code",
   "execution_count": 89,
   "metadata": {},
   "outputs": [
    {
     "name": "stdout",
     "output_type": "stream",
     "text": [
      "You need to start the engine before accelerating \n"
     ]
    }
   ],
   "source": [
    "car1.accelerate(20)"
   ]
  },
  {
   "cell_type": "code",
   "execution_count": 94,
   "metadata": {},
   "outputs": [
    {
     "name": "stdout",
     "output_type": "stream",
     "text": [
      "You need to be on speed before decelerating \n"
     ]
    }
   ],
   "source": [
    "car1.decelerate(10)"
   ]
  },
  {
   "cell_type": "markdown",
   "metadata": {},
   "source": [
    "# NUMPY   | 7-05-2024"
   ]
  },
  {
   "cell_type": "code",
   "execution_count": 3,
   "metadata": {},
   "outputs": [
    {
     "name": "stdout",
     "output_type": "stream",
     "text": [
      "range(0, 21, 2)\n"
     ]
    }
   ],
   "source": [
    "a = range(0,21,2)\n",
    "print(a)"
   ]
  },
  {
   "cell_type": "code",
   "execution_count": null,
   "metadata": {},
   "outputs": [],
   "source": []
  }
 ],
 "metadata": {
  "kernelspec": {
   "display_name": "Python 3",
   "language": "python",
   "name": "python3"
  },
  "language_info": {
   "codemirror_mode": {
    "name": "ipython",
    "version": 3
   },
   "file_extension": ".py",
   "mimetype": "text/x-python",
   "name": "python",
   "nbconvert_exporter": "python",
   "pygments_lexer": "ipython3",
   "version": "3.7.6"
  }
 },
 "nbformat": 4,
 "nbformat_minor": 4
}
